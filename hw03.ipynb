{
 "cells": [
  {
   "cell_type": "markdown",
   "id": "13ab0a72-3e26-4c62-9a5d-efd35e396392",
   "metadata": {},
   "source": [
    "#### Задача 1. \n",
    "\n",
    "Известно, что в итальянском языке буква с читается по-разному: если после нее идут буквы i и е, то она читается как \"ч\", а если a, o, u - то как \"к\". Две с удваиваются в любом варианте. Сочетание gl читается как ль. Нам нужно помочь человеку, изучающему язык, и для введенных им слов подсказывать ему, как правильно читается фраза. Например:\n",
    "\n",
    "    >>> cio che lui fa\n",
    "    >>> CHo Ke lui fa\n",
    "    >>> pagliaccio\n",
    "    >>> paL'aCHCHo\n",
    "    >>> è meglio che lo faccia tu\n",
    "    >>> è meL'io Ke lo faCHCHa tu"
   ]
  },
  {
   "cell_type": "code",
   "execution_count": 1,
   "id": "7411542a-8251-4453-9540-fa59821d3d20",
   "metadata": {},
   "outputs": [
    {
     "name": "stdout",
     "output_type": "stream",
     "text": [
      " karo kuro credere korsi cherto fachile pronuncha chokkolata mukka pichchione volio ke  karo kuro credere korsi kerto fakile pronuncha chokkolata mukka pichkione volio ke\n"
     ]
    }
   ],
   "source": [
    "italiano = input()\n",
    "italiano = italiano.replace('cca', 'kka').replace('cco', 'kko').replace('ccu', 'kku')\n",
    "italiano = italiano.replace('ca', 'ka').replace('co', 'ko').replace('cu', 'ku').replace('gl', 'l')\n",
    "italiano = italiano.replace('che', 'ke').replace('chi', 'ki')\n",
    "italiano = italiano.replace('cci', 'chchi').replace('cce', 'chche')\n",
    "italiano = italiano.replace('cia', 'cha').replace('cio', 'cho').replace('ciu', 'chu').replace('ci', 'chi').replace('ce', 'che')\n",
    "print(italiano)"
   ]
  },
  {
   "cell_type": "markdown",
   "id": "95892d08-3546-42ae-875a-319d6083e067",
   "metadata": {},
   "source": [
    "#### Задача 2. \n",
    "\n",
    "Программа считывает с клавиатуры какой-нибудь довольно большой текст (пару предложений) и должна посчитать, сколько раз в этом тексте встретился союз \"и\" (считаем, что вокруг союза обязательно есть по пробелу: \" и \"). "
   ]
  },
  {
   "cell_type": "code",
   "execution_count": 3,
   "id": "9ba8d83a-1671-4af9-a691-78849c4ff613",
   "metadata": {},
   "outputs": [
    {
     "name": "stdout",
     "output_type": "stream",
     "text": [
      "2\n"
     ]
    }
   ],
   "source": [
    "skoko_raz = input()\n",
    "print(skoko_raz.count(' и '))"
   ]
  },
  {
   "cell_type": "markdown",
   "id": "40306261-7387-45f1-b193-e6be4f7eb09c",
   "metadata": {},
   "source": [
    "#### Задача 3. \n",
    "\n",
    "Пользователь вводит строчку. Наша задача - вернуть ее задом наперед (н-р, \"йцукен\" должно превратиться в \"некуцй\"). Используйте срезы."
   ]
  },
  {
   "cell_type": "code",
   "execution_count": 4,
   "id": "a0cb7788-ed1e-4b85-882e-8bc874d0bbd7",
   "metadata": {},
   "outputs": [
    {
     "name": "stdout",
     "output_type": "stream",
     "text": [
      "акшок\n"
     ]
    }
   ],
   "source": [
    "strochka = input()\n",
    "strochka = strochka[::-1]\n",
    "print(strochka)"
   ]
  },
  {
   "cell_type": "markdown",
   "id": "1c3785ef-25aa-475f-b6ac-a42520e54746",
   "metadata": {},
   "source": [
    "#### Задача 4. \n",
    "\n",
    "Дана строка. Разрежьте ее на две равные части (если длина строки — четная, а если длина строки нечетная, то длина первой части должна быть на один символ больше). Переставьте эти две части местами, результат запишите в новую строку и выведите на экран."
   ]
  },
  {
   "cell_type": "code",
   "execution_count": 5,
   "id": "63651424-f251-44ab-87d1-32a55e753813",
   "metadata": {},
   "outputs": [
    {
     "name": "stdout",
     "output_type": "stream",
     "text": [
      "акасоб\n"
     ]
    }
   ],
   "source": [
    "rezhem = input()\n",
    "if len(rezhem) % 2 == 1:\n",
    "  middle = len(rezhem) // 2 + 1\n",
    "  print(rezhem[middle:] + rezhem[:middle])\n",
    "else:\n",
    "  middle = len(rezhem) // 2\n",
    "  print(rezhem[middle:] + rezhem[:middle])"
   ]
  },
  {
   "cell_type": "markdown",
   "id": "9d25ac51-b920-425b-85d5-8ebb234f2b4d",
   "metadata": {},
   "source": [
    "#### Задача 5. \n",
    "\n",
    "Дана строка, состоящая ровно из двух слов, разделенных пробелом. Переставьте эти слова местами. Результат запишите в строку и выведите получившуюся строку."
   ]
  },
  {
   "cell_type": "code",
   "execution_count": 6,
   "id": "e1b67595-a918-4d4e-b970-b54ca7018429",
   "metadata": {},
   "outputs": [
    {
     "name": "stdout",
     "output_type": "stream",
     "text": [
      "слов пара\n"
     ]
    }
   ],
   "source": [
    "paraslov = input()\n",
    "space_index = paraslov.find(' ')\n",
    "print(paraslov[(space_index + 1):], paraslov[:space_index], sep=' ')"
   ]
  },
  {
   "cell_type": "markdown",
   "id": "02293832-374f-467b-955c-8c13a24d34cf",
   "metadata": {},
   "source": [
    "#### Задача 6. \n",
    "\n",
    "Дана строка. Если в этой строке буква f встречается только один раз, выведите её индекс. Если она встречается два и более раз, выведите индекс её первого и последнего появления. Если буква f в данной строке не встречается, ничего не выводите."
   ]
  },
  {
   "cell_type": "code",
   "execution_count": 7,
   "id": "62d441b0-3237-40b7-9163-b92d9bf12702",
   "metadata": {},
   "outputs": [
    {
     "name": "stdout",
     "output_type": "stream",
     "text": [
      "0 4\n"
     ]
    }
   ],
   "source": [
    "find_f = input()\n",
    "if find_f.count('f') == 1:\n",
    "  print(find_f.find('f'))\n",
    "elif find_f.count('f') > 1:\n",
    "  print(find_f.find('f'), find_f.rfind('f'))\n",
    "else:\n",
    "  print()"
   ]
  },
  {
   "cell_type": "markdown",
   "id": "ff719f25-a59a-4e36-8bb2-1874ec0a79c6",
   "metadata": {},
   "source": [
    "#### Задача 7. \n",
    "\n",
    "Дана строка. Найдите в этой строке второе вхождение буквы f, и выведите индекс этого вхождения. Если буква f в данной строке встречается только один раз, выведите число -1, а если не встречается ни разу, выведите число -2."
   ]
  },
  {
   "cell_type": "code",
   "execution_count": 8,
   "id": "91da8bf8-bff6-47b6-9ee3-d51a4a25cb62",
   "metadata": {},
   "outputs": [
    {
     "name": "stdout",
     "output_type": "stream",
     "text": [
      "3\n"
     ]
    }
   ],
   "source": [
    "snova_find_f = input()\n",
    "if snova_find_f.count('f') > 1:\n",
    "  print(snova_find_f.find('f', snova_find_f.find('f') + 1))\n",
    "elif snova_find_f.count('f') == 1:\n",
    "  print(-1)\n",
    "else:\n",
    "  print(-2)"
   ]
  },
  {
   "cell_type": "markdown",
   "id": "670e4941-c0f1-4419-be51-1f8c3762a356",
   "metadata": {},
   "source": [
    "#### Задача 8. \n",
    "\n",
    "Дана строка, в которой буква h встречается минимум два раза. Удалите из этой строки первое и последнее вхождение буквы h, а также все символы, находящиеся между ними.\n",
    "\n",
    "Например, для строки \"In the hole in the ground there lived a hobbit\" результатом должно стать \"In tobbit\"."
   ]
  },
  {
   "cell_type": "code",
   "execution_count": 9,
   "id": "b70b3d56-b952-48b9-96a7-0f51e8f02d23",
   "metadata": {},
   "outputs": [
    {
     "name": "stdout",
     "output_type": "stream",
     "text": [
      "In tobbit\n"
     ]
    }
   ],
   "source": [
    "delete_h = input()\n",
    "h1 = delete_h.find('h')\n",
    "h2 = delete_h.rfind('h')\n",
    "delete_h = delete_h[:h1] + delete_h[h2 + 1:]\n",
    "print(delete_h)"
   ]
  },
  {
   "cell_type": "markdown",
   "id": "5bfd0835-816f-4b63-924a-6b8ffc450f84",
   "metadata": {},
   "source": [
    "#### Задача 9. \n",
    "\n",
    "Дана строка, в которой буква h встречается как минимум два раза. Разверните последовательность символов, заключенную между первым и последним появлением буквы h, в противоположном порядке."
   ]
  },
  {
   "cell_type": "code",
   "execution_count": 10,
   "id": "41626b06-dd63-44d6-95b4-4e745d3b1ec5",
   "metadata": {},
   "outputs": [
    {
     "name": "stdout",
     "output_type": "stream",
     "text": [
      " a devil ereht dnuorg eht ni eloh e\n"
     ]
    }
   ],
   "source": [
    "reverse_h = input()\n",
    "h1 = reverse_h.find('h')\n",
    "h2 = reverse_h.rfind('h')\n",
    "print(reverse_h[h2 - 1:h1:-1])"
   ]
  },
  {
   "cell_type": "markdown",
   "id": "96ae2098-dc1f-4b2a-adcf-57a76d1ca64c",
   "metadata": {},
   "source": [
    "#### Задача 10. \n",
    "\n",
    "Дана строка. Замените в этой строке все появления буквы h на букву H, кроме первого и последнего вхождения."
   ]
  },
  {
   "cell_type": "code",
   "execution_count": 11,
   "id": "898c8d3a-1555-48d9-b0af-763f2617434d",
   "metadata": {},
   "outputs": [
    {
     "name": "stdout",
     "output_type": "stream",
     "text": [
      "In the Hole in tHe ground tHere lived a hobbit\n"
     ]
    }
   ],
   "source": [
    "turn_h = input()\n",
    "h1 = turn_h.find('h')\n",
    "h2 = turn_h.rfind('h')\n",
    "print(turn_h[:h1 + 1] + turn_h[h1 + 1:h2].replace('h', 'H') + turn_h[h2:])"
   ]
  }
 ],
 "metadata": {
  "kernelspec": {
   "display_name": "Python 3 (ipykernel)",
   "language": "python",
   "name": "python3"
  },
  "language_info": {
   "codemirror_mode": {
    "name": "ipython",
    "version": 3
   },
   "file_extension": ".py",
   "mimetype": "text/x-python",
   "name": "python",
   "nbconvert_exporter": "python",
   "pygments_lexer": "ipython3",
   "version": "3.11.5"
  }
 },
 "nbformat": 4,
 "nbformat_minor": 5
}

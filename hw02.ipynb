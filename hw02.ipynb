{
 "cells": [
  {
   "cell_type": "markdown",
   "id": "56eff8cc-316b-46e9-9ed1-547b04bcc103",
   "metadata": {
    "id": "S725w4FMgGQE"
   },
   "source": [
    "#### Задача 1. \n",
    "\n",
    "Напишите программу, которая принимает на вход число секунд и возвращает ответ в часах, минутах и секундах в виде 12:13:14. Подсказка: нужно использовать остаток от деления и целочисленное деление, а также параметр sep функции print(). Также можно воспользоваться функцией divmod(), но это для продвинутых."
   ]
  },
  {
   "cell_type": "code",
   "execution_count": 1,
   "id": "ee2c7a96-54aa-40c6-b159-c05616513127",
   "metadata": {
    "id": "OiXzgCcTgC7z"
   },
   "outputs": [
    {
     "name": "stdout",
     "output_type": "stream",
     "text": [
      "01:01:05\n"
     ]
    }
   ],
   "source": [
    "time = int(input())\n",
    "hours = time // 3600\n",
    "minutes = time % 3600 // 60\n",
    "seconds = time % 3600 % 60\n",
    "if hours < 10:\n",
    "  hours = f'0{hours}'\n",
    "if minutes < 10:\n",
    "  minutes = f'0{minutes}'\n",
    "if seconds < 10:\n",
    "  seconds = f'0{seconds}'\n",
    "print(hours, minutes, seconds, sep = ':')"
   ]
  },
  {
   "cell_type": "code",
   "execution_count": 2,
   "id": "925c9c2e",
   "metadata": {},
   "outputs": [
    {
     "name": "stdout",
     "output_type": "stream",
     "text": [
      "01:01:05\n"
     ]
    }
   ],
   "source": [
    "time = int(input())\n",
    "minutes, seconds = divmod(time, 60)\n",
    "hours, minutes = divmod(minutes, 60)\n",
    "seconds = seconds if seconds >= 10 else f'0{seconds}'\n",
    "minutes = minutes if minutes >= 10 else f'0{minutes}'\n",
    "hours = hours if hours >= 10 else f'0{hours}'\n",
    "print(hours, minutes, seconds, sep = ':')"
   ]
  },
  {
   "cell_type": "markdown",
   "id": "19865edc-b8a2-4f70-a93a-1b469f01bba3",
   "metadata": {
    "id": "eAzjRy5qgbos"
   },
   "source": [
    "#### Задача 2. \n",
    "\n",
    "Напишите программу, которая переводит вес из килограммов в фунты. (Вес вводится пользователем)"
   ]
  },
  {
   "cell_type": "code",
   "execution_count": 3,
   "id": "eed62b3b-de8e-4f1b-b3fd-159ee55609a9",
   "metadata": {
    "id": "34xD1ujugmIr"
   },
   "outputs": [
    {
     "name": "stdout",
     "output_type": "stream",
     "text": [
      "11.023113109243878\n"
     ]
    }
   ],
   "source": [
    "weight = int(input())\n",
    "print(weight / 0.45359237)"
   ]
  },
  {
   "cell_type": "markdown",
   "id": "30ce20cf-c2ba-4fb7-ab60-b671a87541eb",
   "metadata": {
    "id": "REk8Ryh3gnVb"
   },
   "source": [
    "#### Задача 3.\n",
    "\n",
    "Напишите программу, которая рассчитывает процент от целого: пользователь вводит объем целого и объем части. Программа должна вывести \"хх%\"."
   ]
  },
  {
   "cell_type": "code",
   "execution_count": 4,
   "id": "61799d86-57de-497c-90ba-4f65d8308276",
   "metadata": {
    "id": "MlU7WYtogs7M"
   },
   "outputs": [
    {
     "name": "stdout",
     "output_type": "stream",
     "text": [
      "25%\n"
     ]
    }
   ],
   "source": [
    "all = int(input())\n",
    "part = int(input())\n",
    "print(f'{int(part / (all * 0.01))}%')"
   ]
  },
  {
   "cell_type": "markdown",
   "id": "48406693-dd81-4530-9b04-f5fcd6df4399",
   "metadata": {
    "id": "KEbDUf-fhHrK"
   },
   "source": [
    "#### Задача 4. \n",
    "\n",
    "Дано положительное действительное число X. Выведите его первую цифру после десятичной точки. Эту задачу можно решить двумя способами."
   ]
  },
  {
   "cell_type": "code",
   "execution_count": 5,
   "id": "6ad442ef-9908-4677-b670-ff17da699165",
   "metadata": {
    "id": "U8ljbLqohS8M"
   },
   "outputs": [
    {
     "name": "stdout",
     "output_type": "stream",
     "text": [
      "5\n"
     ]
    }
   ],
   "source": [
    "x = float(input())\n",
    "print(int(x * 10) % 10)"
   ]
  },
  {
   "cell_type": "code",
   "execution_count": 6,
   "id": "7c0af788",
   "metadata": {},
   "outputs": [
    {
     "name": "stdout",
     "output_type": "stream",
     "text": [
      "8\n"
     ]
    }
   ],
   "source": [
    "x = float(input())\n",
    "print(int((x % 1)*10))"
   ]
  }
 ],
 "metadata": {
  "kernelspec": {
   "display_name": "Python 3 (ipykernel)",
   "language": "python",
   "name": "python3"
  },
  "language_info": {
   "codemirror_mode": {
    "name": "ipython",
    "version": 3
   },
   "file_extension": ".py",
   "mimetype": "text/x-python",
   "name": "python",
   "nbconvert_exporter": "python",
   "pygments_lexer": "ipython3",
   "version": "3.11.5"
  }
 },
 "nbformat": 4,
 "nbformat_minor": 5
}

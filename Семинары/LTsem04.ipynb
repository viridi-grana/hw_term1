{
 "cells": [
  {
   "cell_type": "markdown",
   "metadata": {
    "id": "c_NfnVDRo1Eh"
   },
   "source": [
    "#### Задача 1. \n",
    "\n",
    "Пользователь вводит что-то с клавиатуры в цикле, предположительно, целые числа. Программа должна возвращать квадраты этих чисел, а если пользователь ввел что-то кроме числа, прекратить работу с сообщением об этом."
   ]
  },
  {
   "cell_type": "code",
   "execution_count": 1,
   "metadata": {
    "executionInfo": {
     "elapsed": 5,
     "status": "ok",
     "timestamp": 1666089420889,
     "user": {
      "displayName": "Alexandra Ivoylova",
      "userId": "06069991353189522669"
     },
     "user_tz": -180
    },
    "id": "Epk1LkDZoqo1"
   },
   "outputs": [],
   "source": [
    "# сдала на занятии"
   ]
  },
  {
   "cell_type": "markdown",
   "metadata": {
    "id": "8YEJc-Zlo5AA"
   },
   "source": [
    "#### Задача 2. \n",
    "\n",
    "Нужно вывести таблицу умножения: на первой строчке выводятся 1 2 3 4 5 6 7 8 9, на второй 2 4 6 8 ... и так далее."
   ]
  },
  {
   "cell_type": "code",
   "execution_count": 1,
   "metadata": {
    "executionInfo": {
     "elapsed": 6,
     "status": "ok",
     "timestamp": 1666089420890,
     "user": {
      "displayName": "Alexandra Ivoylova",
      "userId": "06069991353189522669"
     },
     "user_tz": -180
    },
    "id": "QLyUPKPBo9xa"
   },
   "outputs": [],
   "source": [
    "# сдала на занятии"
   ]
  },
  {
   "cell_type": "markdown",
   "metadata": {
    "id": "RMS_LRTfo-Cp"
   },
   "source": [
    "#### Задача 3. \n",
    "\n",
    "Пользователь вводит какие-то строки, которые наша программа должна приводить в \"заголовочный\" вид: все слова в строке с заглавной буквы. Когда пользователь вводит \"стоп\", программа должна завершить работу, причем ей неважно, в каком регистре введен \"стоп\", хоть заборчиком."
   ]
  },
  {
   "cell_type": "code",
   "execution_count": 1,
   "metadata": {
    "executionInfo": {
     "elapsed": 5,
     "status": "ok",
     "timestamp": 1666089420890,
     "user": {
      "displayName": "Alexandra Ivoylova",
      "userId": "06069991353189522669"
     },
     "user_tz": -180
    },
    "id": "-2SsbQLHpB5R"
   },
   "outputs": [],
   "source": [
    "# сдала на занятии"
   ]
  },
  {
   "cell_type": "markdown",
   "metadata": {
    "id": "m1CsBiJJpCZA"
   },
   "source": [
    "#### Задача 4. \n",
    "\n",
    "Соберем, кстати, заборчик: пользователь вводит какое-то слово маленькими буквами, а мы должны его собрать таким образом, чтобы каждая вторая буква была заглавной."
   ]
  },
  {
   "cell_type": "code",
   "execution_count": 1,
   "metadata": {
    "id": "mRRJ0emqpHZo"
   },
   "outputs": [
    {
     "name": "stdout",
     "output_type": "stream",
     "text": [
      "МаМа"
     ]
    }
   ],
   "source": [
    "yourword = input('')\n",
    "for i in range(0, len(yourword)):\n",
    "  if i % 2 == 0:\n",
    "    print(yourword[i].upper(), end='')\n",
    "  else:\n",
    "    print(yourword[i], end='')"
   ]
  },
  {
   "cell_type": "markdown",
   "metadata": {
    "id": "0J7bTu8wpL4x"
   },
   "source": [
    "#### Задача 5. \n",
    "\n",
    "Пользователь вводит предложение, в котором есть лишние (двойные, тройные) пробелы. Удалите все лишние пробелы."
   ]
  },
  {
   "cell_type": "code",
   "execution_count": 2,
   "metadata": {
    "id": "8ecnu-k8pf__"
   },
   "outputs": [
    {
     "name": "stdout",
     "output_type": "stream",
     "text": [
      "Мама мыла раму\n"
     ]
    }
   ],
   "source": [
    "sentence = input()\n",
    "if sentence.find('  ') != -1 or sentence.find('   ') != -1:\n",
    "  print(sentence.replace('   ', ' ').replace('  ', ' '))"
   ]
  },
  {
   "cell_type": "markdown",
   "metadata": {
    "id": "SsJVPHkwpgHg"
   },
   "source": [
    "#### Задача 6. \n",
    "\n",
    "Напишем программу для проверки подобранных рифм: пользователь в цикле вводит два слова, программа должна проверить, что у них совпадает не меньше четырех последних букв (будем наивно считать, что все читается, как пишется). Цикл останавливается, если первое из введенных слов не содержит букв."
   ]
  },
  {
   "cell_type": "code",
   "execution_count": 3,
   "metadata": {
    "id": "2-_tXhB8pjZf"
   },
   "outputs": [
    {
     "name": "stdout",
     "output_type": "stream",
     "text": [
      "Слова кума и пума не рифмуются\n",
      "Слова спорт и паспорт рифмуются\n"
     ]
    }
   ],
   "source": [
    "while True:\n",
    "  w1 = input()\n",
    "  if not w1.isalpha():\n",
    "    break\n",
    "  w2 = input()\n",
    "  if w1[-4:] == w2[-4:]:\n",
    "    print(f'Слова {w1} и {w2} рифмуются')\n",
    "  else:\n",
    "    print(f'Слова {w1} и {w2} не рифмуются')"
   ]
  }
 ],
 "metadata": {
  "colab": {
   "authorship_tag": "ABX9TyMf460K+fWf9O4Z5QUvTOib",
   "collapsed_sections": [],
   "provenance": []
  },
  "kernelspec": {
   "display_name": "Python 3 (ipykernel)",
   "language": "python",
   "name": "python3"
  },
  "language_info": {
   "codemirror_mode": {
    "name": "ipython",
    "version": 3
   },
   "file_extension": ".py",
   "mimetype": "text/x-python",
   "name": "python",
   "nbconvert_exporter": "python",
   "pygments_lexer": "ipython3",
   "version": "3.11.5"
  }
 },
 "nbformat": 4,
 "nbformat_minor": 4
}

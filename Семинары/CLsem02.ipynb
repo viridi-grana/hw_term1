{
 "cells": [
  {
   "cell_type": "markdown",
   "id": "99e816fb-e950-4375-a731-5ede4d2c7e1f",
   "metadata": {},
   "source": [
    "### Повторим немного пройденное"
   ]
  },
  {
   "cell_type": "markdown",
   "id": "5f70c975-a5eb-4dd0-94d0-0038cfa1a4d3",
   "metadata": {},
   "source": [
    "#### Задача 1. \n",
    "\n",
    "Напишите программу, которая считывает длины двух катетов в прямоугольном треугольнике и выводит его площадь."
   ]
  },
  {
   "cell_type": "code",
   "execution_count": null,
   "id": "f4514e9e-22b7-48f6-8b9f-a9735e7b632b",
   "metadata": {},
   "outputs": [],
   "source": [
    "# сдала на занятии"
   ]
  },
  {
   "cell_type": "markdown",
   "id": "8712b5cd-d94d-4120-9f69-2406abaab58c",
   "metadata": {},
   "source": [
    "#### Задача 2. \n",
    "\n",
    "В школе решили набрать три новых математических класса. Так как занятия по математике у них проходят в одно и то же время, было решено выделить кабинет для каждого класса и купить в них новые парты. За каждой партой может сидеть не больше двух учеников. Известно количество учащихся в каждом из трёх классов. Сколько всего нужно закупить парт, чтобы их хватило на всех учеников? Программа получает на вход три натуральных числа: количество учащихся в каждом из трех классов."
   ]
  },
  {
   "cell_type": "code",
   "execution_count": null,
   "id": "1215a8dc-af90-4a99-9a15-23fa0d2d8836",
   "metadata": {},
   "outputs": [],
   "source": [
    "# сдала на занятии"
   ]
  },
  {
   "cell_type": "markdown",
   "id": "4dbb7cbd-9d50-4803-a5b7-674c0e47bfd1",
   "metadata": {},
   "source": [
    "### Строки"
   ]
  },
  {
   "cell_type": "markdown",
   "id": "cda9bada-37db-4d5d-a1d8-3588482cb504",
   "metadata": {},
   "source": [
    "#### Задача 3. \n",
    "\n",
    "Пользователь вводит строку. проверьте, является ли она числом, и увеличьте это число на единицу."
   ]
  },
  {
   "cell_type": "code",
   "execution_count": null,
   "id": "e5b22488-d978-4262-991f-2beb3655c26f",
   "metadata": {},
   "outputs": [],
   "source": [
    "# сдала на занятии"
   ]
  },
  {
   "cell_type": "markdown",
   "id": "2739c3b8-3dff-4b85-8e86-df6b860ee48b",
   "metadata": {},
   "source": [
    "#### Задача 4.\n",
    "\n",
    "Пользователь вводит строку. Проверьте, похожа ли она на название песни (слова начинаются с заглавной буквы)."
   ]
  },
  {
   "cell_type": "code",
   "execution_count": null,
   "id": "e8edaa09-3f14-4c94-9544-f88236e8d8b0",
   "metadata": {},
   "outputs": [],
   "source": [
    "# сдала на занятии"
   ]
  },
  {
   "cell_type": "markdown",
   "id": "1a51c58a-5498-4e19-a2b1-ee612234b08d",
   "metadata": {},
   "source": [
    "#### Задача 5.\n",
    "\n",
    "Пользователь вводит строку - название файла с расширением. Выведите только расширение (все, что после точки). Точка может встречаться в самом названии файла, а в расширении - нет."
   ]
  },
  {
   "cell_type": "code",
   "execution_count": null,
   "id": "03fb952e-da9b-4798-94fa-e1e59e2aaa54",
   "metadata": {},
   "outputs": [],
   "source": [
    "# сдала на занятии"
   ]
  },
  {
   "cell_type": "markdown",
   "id": "d99c0849-b476-4956-a7e2-d48105add7e5",
   "metadata": {},
   "source": [
    "### Циклы"
   ]
  },
  {
   "cell_type": "markdown",
   "id": "ef8d684b-7c89-4045-b514-1383c6e6513d",
   "metadata": {},
   "source": [
    "#### Задача 6. \n",
    "\n",
    "По данному целому числу N распечатайте все квадраты натуральных чисел, не превосходящие N, в порядке возрастания."
   ]
  },
  {
   "cell_type": "code",
   "execution_count": 5,
   "id": "e78ee14f-0514-450a-bd01-c47e80ff0864",
   "metadata": {},
   "outputs": [
    {
     "name": "stdout",
     "output_type": "stream",
     "text": [
      "1\n",
      "4\n",
      "9\n",
      "16\n",
      "25\n",
      "36\n",
      "49\n",
      "64\n"
     ]
    }
   ],
   "source": [
    "n = int(input())\n",
    "i = 1\n",
    "while True:\n",
    "  if i ** 2 > n:\n",
    "    break\n",
    "  if i ** 2 <= n:\n",
    "    print(i ** 2)\n",
    "    i += 1\n"
   ]
  },
  {
   "cell_type": "markdown",
   "id": "51778807-f95c-4c25-97b3-12108e83d35a",
   "metadata": {},
   "source": [
    "#### Задача 7.\n",
    "\n",
    "Определите среднее значение всех элементов последовательности, завершающейся числом 0. Списками пользоваться нельзя. "
   ]
  },
  {
   "cell_type": "code",
   "execution_count": 6,
   "id": "143e4835-e2c8-490c-adca-6d757559c183",
   "metadata": {},
   "outputs": [
    {
     "name": "stdout",
     "output_type": "stream",
     "text": [
      "3.0\n"
     ]
    }
   ],
   "source": [
    "schetchik = 0\n",
    "summa = 0\n",
    "while True:\n",
    "  numbers = int(input())\n",
    "  if numbers == 0:\n",
    "    schetchik = schetchik + 1\n",
    "    break\n",
    "  else:\n",
    "    schetchik = schetchik + 1\n",
    "    summa = summa + numbers\n",
    "print(summa / schetchik)"
   ]
  },
  {
   "cell_type": "markdown",
   "id": "df8fd63b-500b-4184-8b65-35cba32c9ffd",
   "metadata": {},
   "source": [
    "#### Задача 8. \n",
    "\n",
    "Факториалом числа n называется произведение 1 × 2 × ... × n. Обозначение: n!.\n",
    "По данному натуральному n вычислите значение n!. Пользоваться математической библиотекой math в этой задаче запрещено."
   ]
  },
  {
   "cell_type": "code",
   "execution_count": 7,
   "id": "4646a03a-8f57-4ec9-a830-0a4b66dc1203",
   "metadata": {},
   "outputs": [
    {
     "name": "stdout",
     "output_type": "stream",
     "text": [
      "120\n"
     ]
    }
   ],
   "source": [
    "n = int(input())\n",
    "fact = 1\n",
    "for i in range(n):\n",
    "  fact = fact * (i + 1)\n",
    "print(fact)"
   ]
  },
  {
   "cell_type": "markdown",
   "id": "308ad628-35c5-4fb6-8740-0d0fa18b9098",
   "metadata": {},
   "source": [
    "#### Задача 9.\n",
    "\n",
    "Выведите числа от 1 до 9 таким образом, чтобы образовалась лесенка:\n",
    "\n",
    "    1\n",
    "    1 2\n",
    "    1 2 3\n",
    "    1 2 3 4\n",
    "    ..."
   ]
  },
  {
   "cell_type": "code",
   "execution_count": 8,
   "id": "498090a6-aa04-47b5-865d-7bad1bd4d343",
   "metadata": {},
   "outputs": [
    {
     "name": "stdout",
     "output_type": "stream",
     "text": [
      "\n",
      "1\n",
      "1 2\n",
      "1 2 3\n",
      "1 2 3 4\n",
      "1 2 3 4 5\n",
      "1 2 3 4 5 6\n",
      "1 2 3 4 5 6 7\n",
      "1 2 3 4 5 6 7 8\n",
      "1 2 3 4 5 6 7 8 9\n"
     ]
    }
   ],
   "source": [
    "s = list('123456789')\n",
    "for ha in range(len(s) + 1):\n",
    "  print(' '.join(s[:ha]))"
   ]
  },
  {
   "cell_type": "markdown",
   "id": "0242f642-fb26-485b-849c-b44ffe339b21",
   "metadata": {},
   "source": [
    "#### Задача 10. \n",
    "\n",
    "Определите сумму всех элементов последовательности, завершающейся числом 0. (Вводится последовательность, пока не введется ноль, и нужно вывести сумму всех введенных чисел. Списками пользоваться нельзя)."
   ]
  },
  {
   "cell_type": "code",
   "execution_count": 9,
   "id": "822e8f7a-632e-4058-8753-78eecd7e082c",
   "metadata": {},
   "outputs": [
    {
     "name": "stdout",
     "output_type": "stream",
     "text": [
      "17\n"
     ]
    }
   ],
   "source": [
    "summa = 0\n",
    "while True:\n",
    "  numbers = int(input())\n",
    "  if numbers == 0:\n",
    "    break\n",
    "  else:\n",
    "    summa = summa + numbers\n",
    "print(summa)"
   ]
  },
  {
   "cell_type": "markdown",
   "id": "6962700c-b918-4a75-b858-cc0df6193685",
   "metadata": {},
   "source": [
    "### Исключения"
   ]
  },
  {
   "cell_type": "markdown",
   "id": "e9cd65b1-e775-4521-9432-bb84762339c8",
   "metadata": {},
   "source": [
    "#### Задача 11. \n",
    "\n",
    "Решите первую задачу с помощью try и except."
   ]
  },
  {
   "cell_type": "code",
   "execution_count": null,
   "id": "d8eb3e63-9bfb-4265-9a82-bf648b0f76d6",
   "metadata": {},
   "outputs": [],
   "source": [
    "# не совсем поняла условие, к сожалению. Прописать ограничения на случай возможных ошибок ввода?"
   ]
  }
 ],
 "metadata": {
  "kernelspec": {
   "display_name": "Python 3 (ipykernel)",
   "language": "python",
   "name": "python3"
  },
  "language_info": {
   "codemirror_mode": {
    "name": "ipython",
    "version": 3
   },
   "file_extension": ".py",
   "mimetype": "text/x-python",
   "name": "python",
   "nbconvert_exporter": "python",
   "pygments_lexer": "ipython3",
   "version": "3.11.5"
  }
 },
 "nbformat": 4,
 "nbformat_minor": 5
}

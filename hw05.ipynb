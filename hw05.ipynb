{
 "cells": [
  {
   "cell_type": "markdown",
   "id": "75df1240-414b-4e93-8cc4-6e4e2091cae0",
   "metadata": {},
   "source": [
    "#### Задача 1. \n",
    "\n",
    "Дан список. Выведите те его элементы, которые встречаются в списке только один раз. Элементы нужно выводить в том порядке, в котором они встречаются в списке."
   ]
  },
  {
   "cell_type": "code",
   "execution_count": 1,
   "id": "09ef877b-5412-4ccb-b546-fa32a3782d62",
   "metadata": {},
   "outputs": [
    {
     "name": "stdout",
     "output_type": "stream",
     "text": [
      "[3]\n"
     ]
    }
   ],
   "source": [
    " original_list = [1, 2, 3, 3, 4, 5]\n",
    "just_once = []\n",
    "for i in range(len(original_list)):\n",
    "  if original_list.count(original_list[i]) > 1 and original_list[i] not in just_once:\n",
    "    just_once.append(original_list[i])\n",
    "print(just_once)"
   ]
  },
  {
   "cell_type": "markdown",
   "id": "7f708d7a-5eaf-4773-bf75-0e28cd022bf7",
   "metadata": {},
   "source": [
    "#### Задача 2. \n",
    "\n",
    "Напишите функцию, которая будет принимать строчку и возвращать список, состоящий из порядковых номеров в юникоде всех букв из строчки. "
   ]
  },
  {
   "cell_type": "code",
   "execution_count": 2,
   "id": "4230fedb-368a-4fdf-82b5-bdb9ed2a114c",
   "metadata": {},
   "outputs": [
    {
     "name": "stdout",
     "output_type": "stream",
     "text": [
      "Cписок, состоящий из порядковых номеров в юникоде всех букв из строчки: [1087, 1088, 1080, 1074, 1077, 1090]\n"
     ]
    }
   ],
   "source": [
    "def unicode_func(x):\n",
    "  newlist = []\n",
    "  for i in range(len(x)):\n",
    "    newlist.append(ord(x[i]))\n",
    "  return newlist\n",
    "\n",
    "print(f'Cписок, состоящий из порядковых номеров в юникоде всех букв из строчки: {unicode_func(\"привет\")}')"
   ]
  },
  {
   "cell_type": "markdown",
   "id": "18ff9b08-4592-4954-9cc4-a88f3f8827f1",
   "metadata": {},
   "source": [
    "#### Задача 3. \n",
    "\n",
    "Дан список, упорядоченный по неубыванию элементов в нем (то есть, например, 1 1 1 2 2 3 3 3). Определите, сколько в нем различных элементов."
   ]
  },
  {
   "cell_type": "code",
   "execution_count": 3,
   "id": "42345cb0-e1cb-4d39-a9d1-725838870ad8",
   "metadata": {},
   "outputs": [
    {
     "name": "stdout",
     "output_type": "stream",
     "text": [
      "5\n"
     ]
    }
   ],
   "source": [
    "list_bigger_and_bigger = input().split()\n",
    "how_many = []\n",
    "for i in range(0, len(list_bigger_and_bigger) - 1):\n",
    "  if list_bigger_and_bigger[i] == list_bigger_and_bigger[i + 1] and list_bigger_and_bigger[i] not in how_many:\n",
    "    how_many.append(list_bigger_and_bigger[i])\n",
    "if list_bigger_and_bigger[-1] != list_bigger_and_bigger[-2]:\n",
    "  how_many.append(list_bigger_and_bigger[-1])\n",
    "print(len(how_many))"
   ]
  },
  {
   "cell_type": "markdown",
   "id": "96ec9c3c-5508-481c-8386-7d0cbcbd87c2",
   "metadata": {},
   "source": [
    "#### Задача 4. \n",
    "\n",
    "Сортировка с ё: дан список слов, которые нужно отсортировать по алфавиту таким образом, чтобы слова с буквой ё вставали в правильные места. Нужно использовать параметр key и написать свою дополнительную функцию, которую в него передавать. "
   ]
  },
  {
   "cell_type": "code",
   "execution_count": 4,
   "id": "a2746d25-1a10-42b5-a57f-ea3809c276bf",
   "metadata": {},
   "outputs": [
    {
     "name": "stdout",
     "output_type": "stream",
     "text": [
      "['арбуз', 'вася', 'ёлка', 'мама', 'папа']\n"
     ]
    }
   ],
   "source": [
    "listlist = ['арбуз', 'мама', 'папа', 'вася', 'ёлка']\n",
    "def yo_func(x):\n",
    "  x_new = []\n",
    "  for symb in x:\n",
    "    symb_new = ord('е') + 0.5 if symb == 'ё' else ord(symb)\n",
    "    x_new.append(symb_new)\n",
    "    return x_new\n",
    "print(sorted(listlist, key=yo_func))"
   ]
  },
  {
   "cell_type": "markdown",
   "id": "454cae5c-8dcf-48af-9882-a77b53f66bf7",
   "metadata": {},
   "source": [
    "#### Задача 5. \n",
    "\n",
    "Зализняк: отсортируйте список слов в алфавитном порядке, но с конца, как в словаре Зализняка. Например, слова \"арзуз, вася, мама\" выстроятся как \"мама, арбуз, вася\". "
   ]
  },
  {
   "cell_type": "code",
   "execution_count": 5,
   "id": "20266739-9101-4a86-9ebb-c416ca260ed8",
   "metadata": {},
   "outputs": [
    {
     "name": "stdout",
     "output_type": "stream",
     "text": [
      "['мама', 'папа', 'арбуз', 'вася']\n"
     ]
    }
   ],
   "source": [
    "list_zaliznyak = ['арбуз', 'мама', 'папа', 'вася']\n",
    "def z_function(y):\n",
    "  return y[-1]\n",
    "list_zaliznyak.sort(key=z_function)\n",
    "print(list_zaliznyak)"
   ]
  }
 ],
 "metadata": {
  "kernelspec": {
   "display_name": "Python 3 (ipykernel)",
   "language": "python",
   "name": "python3"
  },
  "language_info": {
   "codemirror_mode": {
    "name": "ipython",
    "version": 3
   },
   "file_extension": ".py",
   "mimetype": "text/x-python",
   "name": "python",
   "nbconvert_exporter": "python",
   "pygments_lexer": "ipython3",
   "version": "3.11.5"
  }
 },
 "nbformat": 4,
 "nbformat_minor": 5
}

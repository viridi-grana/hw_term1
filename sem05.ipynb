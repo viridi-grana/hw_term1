{
 "cells": [
  {
   "cell_type": "markdown",
   "id": "defcf306-531c-4eb7-9ee1-90cb42bc3adf",
   "metadata": {},
   "source": [
    "#### Задача 1. \n",
    "\n",
    "Пользователь вводит набор действительных чисел (с плавающей точкой) через пробелы. Считайте этот набор в список, посчитайте среднее арифметическое в списке (сумма всех элементов / их количество)."
   ]
  },
  {
   "cell_type": "code",
   "execution_count": null,
   "id": "bff3688e-0698-4efc-9b7f-3760decd7567",
   "metadata": {},
   "outputs": [],
   "source": [
    " # сдала на занятии"
   ]
  },
  {
   "cell_type": "markdown",
   "id": "26f449f4-44ef-4938-b7cf-134f215177e1",
   "metadata": {},
   "source": [
    "#### Задача 2. \n",
    "\n",
    "Создайте список из чисел от 1 до 10 с помощью range(). Программа должна вернуть на основе него список из четных чисел (2, 4...), возведенных в квадрат."
   ]
  },
  {
   "cell_type": "code",
   "execution_count": null,
   "id": "16ead8da-9d8e-43c8-942c-dd176e2d2e8d",
   "metadata": {},
   "outputs": [],
   "source": [
    " # сдала на занятии"
   ]
  },
  {
   "cell_type": "markdown",
   "id": "0cc388dc-fafa-4f3a-bc88-ee94dffa6f11",
   "metadata": {},
   "source": [
    "#### Задача 3. \n",
    "\n",
    "Пользователь вводит в цикле какие-то слова, пока не введет \"стоп\" в любом регистре. Программа должна вывести: 1. Сколько слов было введено 2. Запросить номер: пользователь вводит номер, и программа выводит слово, которое было введено под этим номером. Слова нужно хранить в списке."
   ]
  },
  {
   "cell_type": "code",
   "execution_count": 1,
   "id": "442bfd59-3028-44c7-bc0c-9f85344c34b7",
   "metadata": {},
   "outputs": [
    {
     "name": "stdout",
     "output_type": "stream",
     "text": [
      "Было введено 6 слов.\n",
      "Это слово - альпака\n"
     ]
    }
   ],
   "source": [
    " counter = 0\n",
    "words = []\n",
    "while True:\n",
    "  slova = input()\n",
    "  if slova.lower() == 'стоп':\n",
    "    break\n",
    "  counter += 1\n",
    "  words.append(slova)\n",
    "print(f'Было введено {counter} слов.')\n",
    "question = int(input('Слово под каким номером Вы хотели бы узнать? '))\n",
    "print(f'Это слово - {words[question - 1]}')"
   ]
  },
  {
   "cell_type": "markdown",
   "id": "a04a7b96-5d3b-4801-82c2-a81d49b32fbc",
   "metadata": {},
   "source": [
    "#### Задача 4. \n",
    "\n",
    "а) Есть список чисел (можно создать любым методом). Нужно на его основе с помощью генератора собрать список квадратов этих чисел, упорядоченных задом наперед (н-р, 49 36 25 16...)\n",
    "\n",
    "б) А если то же самое сделать внутри самого списка, не создавая новый? (Циклами и методами)"
   ]
  },
  {
   "cell_type": "code",
   "execution_count": 2,
   "id": "a38f0767-9512-4959-9558-11414790e042",
   "metadata": {},
   "outputs": [
    {
     "name": "stdout",
     "output_type": "stream",
     "text": [
      "[36, 25, 16, 9, 4]\n"
     ]
    }
   ],
   "source": [
    " # а\n",
    "\n",
    "listlist = [2, 3, 4, 5, 6]\n",
    "print([x ** 2 for x in sorted(listlist, reverse=True)])"
   ]
  },
  {
   "cell_type": "code",
   "execution_count": null,
   "id": "c9404cc2",
   "metadata": {},
   "outputs": [],
   "source": [
    "# б\n",
    "\n",
    "listlist = [2, 3, 4, 5, 6]\n",
    "listlist.sort(reverse=True)\n",
    "for i in range(len(listlist)):\n",
    "  listlist[i] = listlist[i] ** 2\n",
    "print(listlist)"
   ]
  },
  {
   "cell_type": "markdown",
   "id": "db5b5b08-08b9-460f-829e-2c0372f8811b",
   "metadata": {},
   "source": [
    "#### Задача 5. \n",
    "\n",
    "Вводится список чисел через пробел. Поменяйте в этом списке самое маленькое и самое большое число местами, н-р, список 4 2 6 3 7 5 должен превратиться в 4 7 6 3 2 5"
   ]
  },
  {
   "cell_type": "code",
   "execution_count": null,
   "id": "839916d8-8ca3-4dac-8d78-241e2921288a",
   "metadata": {},
   "outputs": [],
   "source": [
    " # сдала на занятии"
   ]
  }
 ],
 "metadata": {
  "kernelspec": {
   "display_name": "Python 3 (ipykernel)",
   "language": "python",
   "name": "python3"
  },
  "language_info": {
   "codemirror_mode": {
    "name": "ipython",
    "version": 3
   },
   "file_extension": ".py",
   "mimetype": "text/x-python",
   "name": "python",
   "nbconvert_exporter": "python",
   "pygments_lexer": "ipython3",
   "version": "3.11.5"
  }
 },
 "nbformat": 4,
 "nbformat_minor": 5
}

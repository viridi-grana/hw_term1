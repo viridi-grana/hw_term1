{
 "cells": [
  {
   "cell_type": "markdown",
   "id": "196c1726-e23d-4515-baba-d278b22abf63",
   "metadata": {},
   "source": [
    "#### Задача 1. \n",
    "\n",
    "Напишите программу, которая считает объем шара. Запрашивается радиус (не обязательно целое число), выводится объем. Формулу для расчета можно, естественно, нагуглить. "
   ]
  },
  {
   "cell_type": "code",
   "execution_count": 1,
   "id": "19d9a0f0-ab27-4339-b149-1591936a8434",
   "metadata": {},
   "outputs": [
    {
     "name": "stdout",
     "output_type": "stream",
     "text": [
      "394.5688529263856\n"
     ]
    }
   ],
   "source": [
    "import math\n",
    "\n",
    "def volume(r):\n",
    "  return (4 / 3) * math.pi * (r ** 3)\n",
    "\n",
    "r = float(input())\n",
    "print(volume(r))"
   ]
  },
  {
   "cell_type": "markdown",
   "id": "7b0111ce-4de9-46b5-b03f-c5c55b8b30d3",
   "metadata": {},
   "source": [
    "#### Задача 2. \n",
    "\n",
    "Вводится две строки. Посчитайте, сколько процентов от длины первой строки составляет длина второй строки. "
   ]
  },
  {
   "cell_type": "code",
   "execution_count": 2,
   "id": "ec0ee4a7-8e3a-42b5-bba4-2833d9f27c2f",
   "metadata": {},
   "outputs": [
    {
     "name": "stdout",
     "output_type": "stream",
     "text": [
      "Длина первой строки составит 19.05% от длины второй строки\n"
     ]
    }
   ],
   "source": [
    "def percent(s1, s2):\n",
    "  len_s1 = len(s1)\n",
    "  len_s2 = len(s2)\n",
    "  res = len_s2 / (len_s1 / 100)\n",
    "  return round(res, 2)\n",
    "\n",
    "s1 = input()\n",
    "s2 = input()\n",
    "\n",
    "print(f'Длина первой строки составит {percent(s1, s2)}% от длины второй строки')"
   ]
  },
  {
   "cell_type": "markdown",
   "id": "5d9713ad-6994-4ab6-8874-bbea97ae76df",
   "metadata": {},
   "source": [
    "#### Задача 3. \n",
    "\n",
    "Вводится список. Если список упорядочен по возрастанию, выведите \"по возрастанию\", если по убыванию - то \"по убыванию\", а если не упорядочен - то \"не упорядочен\". "
   ]
  },
  {
   "cell_type": "code",
   "execution_count": 3,
   "id": "38eb6472-a74f-497a-92b1-e0bbbc359b58",
   "metadata": {},
   "outputs": [
    {
     "name": "stdout",
     "output_type": "stream",
     "text": [
      "Список упорядочен по убыванию\n"
     ]
    }
   ],
   "source": [
    "def checker(lst):\n",
    "  if sorted(lst) == lst:\n",
    "    return('Список упорядочен по возрастанию')\n",
    "  elif sorted(lst, reverse=True) == lst:\n",
    "    return('Список упорядочен по убыванию')\n",
    "  else:\n",
    "    return('Список не упорядочен')\n",
    "\n",
    "lst = [5, 3, 1]\n",
    "\n",
    "print(checker(lst))"
   ]
  },
  {
   "cell_type": "markdown",
   "id": "4872d93e-17a8-4ce4-8195-d9576d7361e9",
   "metadata": {},
   "source": [
    "#### Задача 4. \n",
    "\n",
    "Дано N слов: сначала вводится число N, затем вводится ровно N слов английского языка (без пробелов, но могут быть с большой буквы). Подсчитайте количество артиклей \"the\" среди введенных слов и выведите это количество."
   ]
  },
  {
   "cell_type": "code",
   "execution_count": 4,
   "id": "939216f2-68cd-456d-a058-8a2b9db15b19",
   "metadata": {},
   "outputs": [
    {
     "name": "stdout",
     "output_type": "stream",
     "text": [
      "Среди введенных слов артикль the встречается 1 раз(а)\n"
     ]
    }
   ],
   "source": [
    "def the_counter(n):\n",
    "  count_the = 0\n",
    "  for i in range(n):\n",
    "    the = input()\n",
    "    if the.lower() == 'the':\n",
    "      count_the += 1\n",
    "  return(f'Среди введенных слов артикль the встречается {count_the} раз(а)')\n",
    "\n",
    "print(the_counter(5))"
   ]
  },
  {
   "cell_type": "markdown",
   "id": "1a762bd1-a0da-4569-8ca6-c64f10bae8b0",
   "metadata": {},
   "source": [
    "#### Задача 5.\n",
    "\n",
    "Программе на вход подается число в [римской записи](https://ru.wikipedia.org/wiki/%D0%A0%D0%B8%D0%BC%D1%81%D0%BA%D0%B8%D0%B5_%D1%86%D0%B8%D1%84%D1%80%D1%8B), то есть, строка содержит заглавные латинские буквы: I, V, X, C, D, M, причем IV - это 4, XC - это 90, CM - это 900. Программа должна переводить это число в арабское. "
   ]
  },
  {
   "cell_type": "code",
   "execution_count": 7,
   "id": "aa658bac-20d7-4d04-99b5-e5e5f124995a",
   "metadata": {},
   "outputs": [
    {
     "name": "stdout",
     "output_type": "stream",
     "text": [
      "2999\n"
     ]
    }
   ],
   "source": [
    "roman_numbers_dict = {'I': 1, 'IV': 4,\n",
    "'V': 5, 'IX': 9,\n",
    "'X': 10, 'XC': 90,\n",
    "'C': 100, 'CD': 400,\n",
    "'D': 500, 'CM': 900,\n",
    "'M': 1000}\n",
    "\n",
    "roman_number = input()\n",
    "arabic_number = 0\n",
    "prev = None\n",
    "\n",
    "for symb in roman_number:\n",
    "  if prev == None:\n",
    "    prev = symb\n",
    "  elif roman_numbers_dict[symb] <= roman_numbers_dict[prev]:\n",
    "    arabic_number += roman_numbers_dict[prev]\n",
    "    prev = symb\n",
    "  else: #roman_numbers_dict[symb] > roman_numbers_dict[prev]:\n",
    "    arabic_number += roman_numbers_dict[symb] - roman_numbers_dict[prev]\n",
    "    prev = None\n",
    "if prev:\n",
    "    arabic_number += roman_numbers_dict[prev]\n",
    "\n",
    "print(arabic_number)"
   ]
  },
  {
   "cell_type": "markdown",
   "id": "a5a38aec-09b6-484f-b7c1-f45ca0353e47",
   "metadata": {},
   "source": [
    "#### Задача 6. \n",
    "\n",
    "Сначала с экрана водится натуральное число X. Далее пользователь вводит последовательность чисел: числа вводятся последовательно по одному (списки с числами через пробел использовать нельзя!), последовательность завершается числом 0. Если в последовательности в какой-то момент встречается число X, программа должна прервать процесс и напечатать, каким по счёту в последовательности было это число. Если же число X не встретилось и последовательность закончилась, следует напечатать: \"Число X не встретилось\" (вместо 'X' должно быть его значение)."
   ]
  },
  {
   "cell_type": "code",
   "execution_count": 8,
   "id": "bbb7fb5b-644b-4c38-b840-2c33ad52332e",
   "metadata": {},
   "outputs": [
    {
     "name": "stdout",
     "output_type": "stream",
     "text": [
      "Число 3 - 4-е в последовательности\n"
     ]
    }
   ],
   "source": [
    "x = int(input())\n",
    "counter_x = 0\n",
    "while True:\n",
    "  number = int(input())\n",
    "  counter_x += 1\n",
    "  if number == 0:\n",
    "    print(f'Число {x} не встретилось')\n",
    "    break\n",
    "  if number == x:\n",
    "    print(f'Число {x} - {counter_x}-е в последовательности')\n",
    "    break"
   ]
  },
  {
   "cell_type": "markdown",
   "id": "b725215d-058b-4988-8dd9-af5ccdf263cb",
   "metadata": {
    "id": "_1nNVQCib4eW"
   },
   "source": [
    "#### Задача 7. \n",
    "\n",
    "Пользователь вводит текст, в котором встречаются цифры. Напишите функцию, которая будет находить цифры и печатать в столбик. "
   ]
  },
  {
   "cell_type": "code",
   "execution_count": 9,
   "id": "75b3e31c-99c5-4188-bda2-1bb0edc5f153",
   "metadata": {
    "id": "u3uP2BGacATN"
   },
   "outputs": [
    {
     "name": "stdout",
     "output_type": "stream",
     "text": [
      "1\n",
      "2\n",
      "3\n",
      "4\n",
      "5\n",
      "2\n",
      "3\n",
      "4\n",
      "1\n",
      "2\n",
      "3\n",
      "4\n",
      "5\n",
      "2\n",
      "3\n",
      "4\n"
     ]
    }
   ],
   "source": [
    "def numbers(text):\n",
    "  for symb in text:\n",
    "    if symb.isdigit() == True:\n",
    "      b = print(symb, end='\\n')\n",
    "  return b\n",
    "\n",
    "numbers('12345 asdffg 234 == 12345, 234')"
   ]
  },
  {
   "cell_type": "markdown",
   "id": "fc79811a-c8ff-4897-8369-1b3392935626",
   "metadata": {},
   "source": [
    "#### Задача 8. \n",
    "\n",
    "Последовательность вводится с экрана и состоит из слов русского языка и завершается пустой строкой. Выведите длины и индексы всех слов, состоящих из нечётного количества букв в формате: \n",
    "\n",
    "    <слово1> (<длина1>) - <индекс1> \n",
    "    <слово2> (<длина2>) - <индекс2> \n",
    "    ... \n",
    "\n",
    "Например, если на 7-ом месте встретилось слово 'я', надо вывести: 'я (7) - 1'. Если таких слов нет, выведите на экран \"Все слова чётной длины\". Также требуется вывести на экран, сколько встретилось слов чётной длины. "
   ]
  },
  {
   "cell_type": "code",
   "execution_count": 11,
   "id": "e45c67a9-f089-4c12-841a-395c4fda1bc2",
   "metadata": {},
   "outputs": [
    {
     "name": "stdout",
     "output_type": "stream",
     "text": [
      "раз (1) - 3\n",
      "два (2) - 3\n",
      "три (3) - 3\n",
      "шесть (6) - 5\n",
      "Было введено 2 слов(о/а) чётной длины\n"
     ]
    }
   ],
   "source": [
    "length = 0\n",
    "index = 0\n",
    "counter_even = 0\n",
    "res = 0\n",
    "while True:\n",
    "  rus_words = input()\n",
    "  length = len(rus_words)\n",
    "  index += 1\n",
    "  if length == 0:\n",
    "    break\n",
    "  if length % 2 == 1:\n",
    "    res = print(f'{rus_words} ({index}) - {length}', end='\\n')\n",
    "  else:\n",
    "    counter_even += 1\n",
    "if res == 0:\n",
    "  print('Все слова чётной длины')\n",
    "print(f'Было введено {counter_even} слов(о/а) чётной длины')"
   ]
  },
  {
   "cell_type": "markdown",
   "id": "655cbdf3-d16e-461b-aab0-9e213fb20fd4",
   "metadata": {
    "id": "OeRo6W1LIP41"
   },
   "source": [
    "#### Задача 9. \n",
    "\n",
    "[Панграмма](https://ru.wikipedia.org/wiki/%D0%9F%D0%B0%D0%BD%D0%B3%D1%80%D0%B0%D0%BC%D0%BC%D0%B0) - это такое предложение, в котором все буквы алфавита встречаются по одному разу. \n",
    "\n",
    "Напишите функцию, которая будет принимать строку с предложением и проверять, что оно - панграмма. \n",
    "\n",
    "Примеры для проверки можете взять на википедии (ссылка выше). "
   ]
  },
  {
   "cell_type": "code",
   "execution_count": 12,
   "id": "76aab294-9045-4e65-9bfc-aee0a3588493",
   "metadata": {
    "id": "h4xxNHw6IrYp"
   },
   "outputs": [],
   "source": [
    "def pangram(a):\n",
    "\n",
    "  import re\n",
    "  import string\n",
    "\n",
    "  cyrillic_set_lower = set()\n",
    "  for i in range(1072, 1104):\n",
    "    cyrillic_set_lower.add(chr(i))\n",
    "  cyrillic_set_lower.add(chr(1105))\n",
    "\n",
    "  a = re.sub(f'[{string.punctuation}]', '', a).replace('—', '').replace(' ', '').lower()\n",
    "\n",
    "  if set(a) == cyrillic_set_lower:\n",
    "    return True\n",
    "\n",
    "assert pangram('Любя, съешь щипцы, — вздохнёт мэр, — кайф жгуч.')"
   ]
  },
  {
   "cell_type": "markdown",
   "id": "6dc8e330-dd0d-4a2b-b938-40bccc46214f",
   "metadata": {},
   "source": [
    "#### Задача 10. \n",
    "\n",
    "Напишите функцию, которая проверяет, что введенная строка - палиндром (пробелы учитываться не должны). Функция должна быть **рекурсивной**. "
   ]
  },
  {
   "cell_type": "code",
   "execution_count": 13,
   "id": "af4f7c25-6d69-4320-b0ef-d2149b3fd23e",
   "metadata": {},
   "outputs": [
    {
     "data": {
      "text/plain": [
       "True"
      ]
     },
     "execution_count": 13,
     "metadata": {},
     "output_type": "execute_result"
    }
   ],
   "source": [
    "def palindrome(s):\n",
    "  s = s.replace(' ','')\n",
    "  if len(s) <= 1:\n",
    "    return True\n",
    "  if s[0] == s[-1]:\n",
    "    return palindrome(s[1:-1])\n",
    "  return False\n",
    "\n",
    "palindrome('а роза упала на лапу азора')"
   ]
  },
  {
   "cell_type": "markdown",
   "id": "76097462-af9e-4ede-a218-ba90a39805dd",
   "metadata": {},
   "source": [
    "#### Задача 11. \n",
    "\n",
    "Каждый из некоторого множества школьников некоторой школы знает некоторое количество языков. Нужно определить сколько языков знают все школьники, и сколько языков знает хотя бы один из школьников.\n",
    "\n",
    "Сперва задается количество школьников. Для каждого из школьников сперва указывается количество языков, которое он знает, а затем - названия языков, по одному в строке.\n",
    "\n",
    "В первой строке выведите количество языков, которые знают все школьники. Начиная со второй строки - список таких языков. Затем - количество языков, которые знает хотя бы один школьник, на следующих строках - список таких языков. Языки нужно выводить в лексикографическом порядке, по одному на строке."
   ]
  },
  {
   "cell_type": "code",
   "execution_count": 14,
   "id": "c495b8f6-e746-4774-a5a4-7741e80561f4",
   "metadata": {},
   "outputs": [
    {
     "name": "stdout",
     "output_type": "stream",
     "text": [
      "Число языков, которые знают все школьники: 1\n",
      "английский\n",
      "Число языков, которые знает хотя бы один школьник: 5\n",
      "английский\n",
      "болгарский\n",
      "венгерский\n",
      "немецкий\n",
      "русский\n"
     ]
    }
   ],
   "source": [
    "students_count = int(input())\n",
    "everybody_knows = set()\n",
    "just_one_knows = set()\n",
    "for student in range(students_count):\n",
    "  lang_per_student = int(input())\n",
    "  student_langs = []\n",
    "  for i in range(lang_per_student):\n",
    "    student_lang = input()\n",
    "    student_langs.append(student_lang)\n",
    "  if student ==  0:\n",
    "      everybody_knows.update(student_langs)\n",
    "  everybody_knows = everybody_knows & set(student_langs)\n",
    "  just_one_knows = just_one_knows | set(student_langs)\n",
    "\n",
    "print(f'Число языков, которые знают все школьники: {len(everybody_knows)}')\n",
    "print(*sorted(list(everybody_knows)), sep='\\n')\n",
    "print(f'Число языков, которые знает хотя бы один школьник: {len(just_one_knows)}')\n",
    "print(*sorted(list(just_one_knows)), sep='\\n')"
   ]
  },
  {
   "cell_type": "markdown",
   "id": "faf4eaa8-99c4-482c-b1ff-8a287f2664ab",
   "metadata": {},
   "source": [
    "#### Задача 12. \n",
    "\n",
    "Напишите свою собственную простейшую функцию токенизации, которая оставляет только список слов (без пунктуации и всего остального). Подумайте про слова с дефисами. "
   ]
  },
  {
   "cell_type": "code",
   "execution_count": 15,
   "id": "0561f18d-8366-4e31-9db0-ef24122e36aa",
   "metadata": {},
   "outputs": [
    {
     "name": "stdout",
     "output_type": "stream",
     "text": [
      "['wejf-bvjwefbjwe', 'ejw', 'efwfew', 'qqwe', 'eqwewqee', 'eewfe-frfr', 'ewfw', 'wqdqwhjwkq']\n"
     ]
    }
   ],
   "source": [
    "def wordization(example_string) -> list:  \n",
    "  import re\n",
    "  \n",
    "  res = re.sub(r'[^-^\\w\\s]', '', example_string)\n",
    "  return re.sub(r'-(?!\\w)|(?<!\\w)-', '', res).split()\n",
    "  \n",
    "\n",
    "example_str = 'wejf-bvjwefbjwe ejw efwfew? qqwe., -,eqwe.,wqe,e, ,     eewfe-frfr , ewfw, wqdqwhjwkq!!!!!'\n",
    "print(wordization(example_str))"
   ]
  },
  {
   "cell_type": "markdown",
   "id": "ce36c3c3-7123-499d-b2e3-b9bd00cc68bc",
   "metadata": {},
   "source": [
    "#### Задача 13. \n",
    "\n",
    "Гадалка. Пользователь вводит общий вопрос на русском языке (на который можно ответить да/нет). Программа, конечно, может гадать рандомом, но интереснее хоть как-то привязать ответ к самому вопросу; давайте это сделаем при помощи количества букв в словах. Таким образом, в первую строчку записываем числа: \n",
    "\n",
    "    <количество слов в вопросе> <длина 1 слова> <длина 2 слова> ... \n",
    "    \n",
    "После чего складываем числа по парам: первое со вторым, второе с третьим и так далее, чтобы получилась строчка на 1 элемент короче. Если результат сложения >= 10, вычитаем столько девяток, чтобы получилось однозначное число (9 годится, 10 - нет). Таким же образом обрабатываем вторую получившуюся строку и делаем так, пока не останется одно-единственное число. Если оно четное, ответ \"да\", если нечетное - ответ \"нет\". Таким образом, ответ на \"получу ли я зачет по программированию\" должен быть \"да\". Считаем, что знаков препинания в вопросе нет (или можно использовать свою функцию токенизации из задачи 9). "
   ]
  },
  {
   "cell_type": "code",
   "execution_count": 16,
   "id": "e3e951ff-4012-479c-a8ca-858a790656b9",
   "metadata": {},
   "outputs": [
    {
     "name": "stdout",
     "output_type": "stream",
     "text": [
      "да\n"
     ]
    }
   ],
   "source": [
    "def add_numbers(lst):\n",
    "  res = [lst[i] + lst[i + 1] for i in range(len(lst) - 1)]\n",
    "  res2 = res\n",
    "  for i in range(len(res)):\n",
    "    if res[i] >= 10:\n",
    "      while res[i] >= 10:\n",
    "        res2[i] = res[i] - 9\n",
    "    else:\n",
    "      res2[i] = res[i]\n",
    "  return res2\n",
    "\n",
    "\n",
    "a = input('Введите свой вопрос: ')\n",
    "def soothsayer(a):\n",
    "  a = a.split()\n",
    "  a = [len(symb) for symb in a]\n",
    "  len_a = len(a)\n",
    "  a[:0] = [len_a]\n",
    "  \n",
    "  for i in range(len_a):\n",
    "    a = add_numbers(a)\n",
    "  \n",
    "  if a[0] % 2 == 0:\n",
    "    return 'да'\n",
    "  else:\n",
    "    return 'нет'\n",
    "\n",
    "print(soothsayer(a))"
   ]
  },
  {
   "cell_type": "markdown",
   "id": "e3a19e19-8418-4140-ba8d-2ec9c552a769",
   "metadata": {
    "id": "-6zoXWMhcF30",
    "tags": []
   },
   "source": [
    "#### Задача 14. \n",
    "\n",
    "В базе данных ветеринарной клиники информация о пациентах-котах хранится в списке кортежей. Данные о кошках и их владельцах записаны в формате «Кличка животного, Возраст животного, Имя владельца, Фамилия владельца»:\n",
    "\n",
    "    cats = [('Мартин', 5, 'Алексей', 'Егоров'),\n",
    "        ('Фродо', 3, 'Анна', 'Самохина'),\n",
    "        ('Вася', 4, 'Андрей', 'Белов'),\n",
    "        ('Муся', 7, 'Игорь', 'Бероев'),\n",
    "        ('Изольда', 2, 'Игорь', 'Бероев'),\n",
    "        ('Снейп', 1, 'Марина', 'Апраксина'),\n",
    "        ('Лютик', 4, 'Виталий', 'Соломин'),\n",
    "        ('Снежок', 3, 'Марина', 'Апраксина'),\n",
    "        ('Марта', 5, 'Сергей', 'Колесников'),\n",
    "        ('Буся', 12, 'Алена', 'Федорова'),\n",
    "        ('Джонни', 10, 'Игорь', 'Андропов'),\n",
    "        ('Мурзик', 1,'Даниил', 'Невзоров'),\n",
    "        ('Барсик', 2, 'Виталий', 'Соломин'),\n",
    "        ('Рыжик', 7, 'Владимир', 'Медведев'),\n",
    "        ('Матильда', 8, 'Андрей', 'Белов'),\n",
    "        ('Гарфилд', 3, 'Александр', 'Березуев')]\n",
    "\n",
    "Обнаружилось, что имена некоторых владельцев повторяются, потому что у них несколько кошек. Необходимо оптимизировать хранение данных таким образом, чтобы для каждого владельца при выводе на печать данные о всех его животных отображались в одной строке:\n",
    "\n",
    "    Игорь Бероев: Муся, 7; Изольда, 2"
   ]
  },
  {
   "cell_type": "code",
   "execution_count": 17,
   "id": "766e3b9d-4715-423b-98b2-f3d790865b65",
   "metadata": {
    "id": "bCOEah7tcekA"
   },
   "outputs": [
    {
     "name": "stdout",
     "output_type": "stream",
     "text": [
      "Алексей Егоров: Мартин, 5\n",
      "Анна Самохина: Фродо, 3\n",
      "Андрей Белов: Вася, 4; Матильда, 8\n",
      "Игорь Бероев: Муся, 7; Изольда, 2\n",
      "Марина Апраксина: Снейп, 1; Снежок, 3\n",
      "Виталий Соломин: Лютик, 4; Барсик, 2\n",
      "Сергей Колесников: Марта, 5\n",
      "Алена Федорова: Буся, 12\n",
      "Игорь Андропов: Джонни, 10\n",
      "Даниил Невзоров: Мурзик, 1\n",
      "Владимир Медведев: Рыжик, 7\n",
      "Александр Березуев: Гарфилд, 3\n"
     ]
    }
   ],
   "source": [
    "cats = [('Мартин', 5, 'Алексей', 'Егоров'),\n",
    "        ('Фродо', 3, 'Анна', 'Самохина'),\n",
    "        ('Вася', 4, 'Андрей', 'Белов'),\n",
    "        ('Муся', 7, 'Игорь', 'Бероев'),\n",
    "        ('Изольда', 2, 'Игорь', 'Бероев'),\n",
    "        ('Снейп', 1, 'Марина', 'Апраксина'),\n",
    "        ('Лютик', 4, 'Виталий', 'Соломин'),\n",
    "        ('Снежок', 3, 'Марина', 'Апраксина'),\n",
    "        ('Марта', 5, 'Сергей', 'Колесников'),\n",
    "        ('Буся', 12, 'Алена', 'Федорова'),\n",
    "        ('Джонни', 10, 'Игорь', 'Андропов'),\n",
    "        ('Мурзик', 1,'Даниил', 'Невзоров'),\n",
    "        ('Барсик', 2, 'Виталий', 'Соломин'),\n",
    "        ('Рыжик', 7, 'Владимир', 'Медведев'),\n",
    "        ('Матильда', 8, 'Андрей', 'Белов'),\n",
    "        ('Гарфилд', 3, 'Александр', 'Березуев')]\n",
    "\n",
    "from collections import defaultdict\n",
    "\n",
    "cat_owners = defaultdict(list)\n",
    "\n",
    "for entry in cats:\n",
    "  cat_owners[entry[2] + ' ' + entry[3]].append(entry[0:2])\n",
    "\n",
    "for owner, cats in cat_owners.items():\n",
    "  cat_name_age = '; '.join(f'{x}, {y}' for x, y in cats)\n",
    "  print(f'{owner}: {cat_name_age}')"
   ]
  },
  {
   "cell_type": "markdown",
   "id": "98a592d0-58e6-49c8-8ed2-416cce5b0523",
   "metadata": {
    "id": "kvXkj993cssr"
   },
   "source": [
    "#### Задача 15. \n",
    "\n",
    "Решите задачу scramble с помощью словарей. Напоминаю, в задаче надо было определить, можно ли составить слово s2 из букв слова s1, например:\n",
    "\n",
    "    электричество - кот (ок), тикток (не ок - не хватает букв к)"
   ]
  },
  {
   "cell_type": "code",
   "execution_count": 18,
   "id": "e4974b0f-5b7c-4551-a053-4a2425c43eab",
   "metadata": {
    "id": "DcMudPQFeKHr"
   },
   "outputs": [
    {
     "data": {
      "text/plain": [
       "True"
      ]
     },
     "execution_count": 18,
     "metadata": {},
     "output_type": "execute_result"
    }
   ],
   "source": [
    "def scrambling(scrambled, new, t=True):\n",
    "  scrambled_dict = {}\n",
    "  new_dict = {}\n",
    "  for symb in scrambled:\n",
    "    scrambled_dict[symb] = scrambled_dict.get(symb, 0) + 1\n",
    "  for symb in new:\n",
    "    new_dict[symb] = new_dict.get(symb, 0) + 1\n",
    "  for symb in new_dict:\n",
    "    if scrambled_dict[symb] < new_dict[symb] or symb not in scrambled_dict:\n",
    "      t = False\n",
    "      return t\n",
    "  return t\n",
    "\n",
    "scrambling('электричество', 'кот')"
   ]
  }
 ],
 "metadata": {
  "kernelspec": {
   "display_name": "Python 3 (ipykernel)",
   "language": "python",
   "name": "python3"
  },
  "language_info": {
   "codemirror_mode": {
    "name": "ipython",
    "version": 3
   },
   "file_extension": ".py",
   "mimetype": "text/x-python",
   "name": "python",
   "nbconvert_exporter": "python",
   "pygments_lexer": "ipython3",
   "version": "3.11.5"
  }
 },
 "nbformat": 4,
 "nbformat_minor": 5
}

{
 "cells": [
  {
   "cell_type": "markdown",
   "id": "012b6176-02b0-4183-8d8c-92adc4be4c5a",
   "metadata": {},
   "source": [
    "#### Задача 1. \n",
    "\n",
    "Даны четыре действительных числа: x1, y1, x2, y2. Напишите функцию distance(x1, y1, x2, y2), вычисляющая расстояние между точкой (x1, y1) и (x2, y2). Считайте четыре действительных числа и выведите результат работы этой функции."
   ]
  },
  {
   "cell_type": "code",
   "execution_count": null,
   "id": "7f2ff57d-516a-409c-aee8-4dd64aeb5937",
   "metadata": {},
   "outputs": [],
   "source": [
    "# сдала на занятии"
   ]
  },
  {
   "cell_type": "markdown",
   "id": "870aa7b6-0198-44f8-8d29-6a6b5690288c",
   "metadata": {},
   "source": [
    "#### Задача 2. \n",
    "\n",
    "Дана последовательность целых чисел, заканчивающаяся числом 0. Выведите эту последовательность в обратном порядке.\n",
    "При решении этой задачи нельзя пользоваться массивами и прочими динамическими структурами данных. Рекурсия вам поможет."
   ]
  },
  {
   "cell_type": "code",
   "execution_count": 1,
   "id": "b8fbf8ed-5d1d-4c7d-914c-25194e142c45",
   "metadata": {},
   "outputs": [
    {
     "name": "stdout",
     "output_type": "stream",
     "text": [
      "0 1 2 3 "
     ]
    }
   ],
   "source": [
    "def backwards():\n",
    "    symb = input()\n",
    "    if symb != '0':\n",
    "        backwards()\n",
    "    print(symb, end=' ')\n",
    "    \n",
    "backwards()"
   ]
  },
  {
   "cell_type": "markdown",
   "id": "a2bdf0da-7671-4835-b037-aa3db0c86e1b",
   "metadata": {},
   "source": [
    "#### Задача 3. \n",
    "\n",
    "Напишите генераторную функцию, которая будет принимать строку с каким-нибудь длинным предложением и возвращать по одному слову из этого предложения в верхнем регистре. "
   ]
  },
  {
   "cell_type": "code",
   "execution_count": 2,
   "id": "47980b5b-6c31-4dfa-96b1-57d230bb42e3",
   "metadata": {},
   "outputs": [
    {
     "name": "stdout",
     "output_type": "stream",
     "text": [
      "НАПИШИТЕ\n",
      "ГЕНЕРАТОРНУЮ\n",
      "ФУНКЦИЮ,\n",
      "КОТОРАЯ\n",
      "БУДЕТ\n"
     ]
    }
   ],
   "source": [
    "sample_stroka = \"\"\"Напишите генераторную функцию, которая будет принимать строку с каким-нибудь\n",
    " длинным предложением и возвращать по одному слову из этого предложения в верхнем регистре.\"\"\"\n",
    "\n",
    "def gen_func(stroka):\n",
    "  stroka = stroka.split()\n",
    "  for symb in stroka:\n",
    "    yield symb.upper()\n",
    "\n",
    "a = gen_func(sample_stroka)\n",
    "\n",
    "print(next(a))\n",
    "print(next(a))\n",
    "print(next(a))\n",
    "print(next(a))\n",
    "print(next(a))"
   ]
  },
  {
   "cell_type": "markdown",
   "id": "a51551eb-1d88-4d2a-a7a1-1e14dc713882",
   "metadata": {},
   "source": [
    "#### Задача 4 (\\*). \n",
    "\n",
    "Дан список кортежей, в каждом из которых по два элемента (можно считать его с клавиатуры в цикле while, вводя кортежи парами через пробел). Превратите его в два кортежа, чтобы в первом были только элементы с нулевым индексом, а во втором - с первым. То есть:\n",
    "\n",
    "    [(1, 'a'), (2, 'b')] \n",
    "    должно превратиться в \n",
    "    (1, 2), ('a', 'b')\n",
    "\n",
    "Цикл можно использовать только для считывания с клавиатуры исходного списка. "
   ]
  },
  {
   "cell_type": "code",
   "execution_count": null,
   "id": "92077563-d5e7-4de2-b147-31a15126cb04",
   "metadata": {},
   "outputs": [],
   "source": [
    "# your code here"
   ]
  },
  {
   "cell_type": "markdown",
   "id": "57542689-78e6-4282-b831-722e81a53b8b",
   "metadata": {},
   "source": [
    "#### Задача 5. \n",
    "\n",
    "Дан список слов (можно считать его через одну строку с помощью split()). Без циклов верните список, состоящий из длин этих слов. "
   ]
  },
  {
   "cell_type": "code",
   "execution_count": 3,
   "id": "bca626a6-7644-49f5-83e6-cdbb882aeffa",
   "metadata": {},
   "outputs": [
    {
     "name": "stdout",
     "output_type": "stream",
     "text": [
      "[4, 1, 5, 5, 7]\n"
     ]
    }
   ],
   "source": [
    "A = input().split()\n",
    "length_list = [len(item) for item in A]\n",
    "print(length_list)"
   ]
  },
  {
   "cell_type": "markdown",
   "id": "7dbaf89c-2f9c-49b2-ab54-9149c5452565",
   "metadata": {},
   "source": [
    "#### Задача 6. \n",
    "\n",
    "Соберите множество всех кириллических букв любым способом (либо с использованием функций ord() и char(), либо с использованием строк). "
   ]
  },
  {
   "cell_type": "code",
   "execution_count": 4,
   "id": "bb4a40ea-e105-4d0c-b28a-cb0ad1434dca",
   "metadata": {},
   "outputs": [
    {
     "name": "stdout",
     "output_type": "stream",
     "text": [
      "{'р', 'Ш', 'э', 'Ж', 'Х', 'ю', 'Д', 'Ц', 'В', 'Ф', 'Т', 'Ъ', 'и', 'х', 'ш', 'б', 'ц', 'ь', 'Б', 'л', 'п', 'ч', 'Ч', 'М', 'Щ', 'К', 'ъ', 'Н', 'И', 'я', 'ё', 'а', 'Е', 'Я', 'д', 'П', 'т', 'ж', 'е', 'н', 'ы', 'з', 'С', 'в', 'у', 'й', 'О', 'щ', 'У', 'м', 'Ы', 'о', 'к', 'Г', 'Л', 'Ь', 'Р', 'г', 'Ё', 'З', 'Й', 'Э', 'с', 'ф', 'Ю', 'А'}\n"
     ]
    }
   ],
   "source": [
    "cyrillic_set = set()\n",
    "for i in range(1040, 1104):\n",
    "  cyrillic_set.add(chr(i))\n",
    "cyrillic_set.add(chr(1105))\n",
    "cyrillic_set.add(chr(1025)) \n",
    "print(cyrillic_set)"
   ]
  },
  {
   "cell_type": "markdown",
   "id": "f58c1d07-8c62-49ac-ae2b-bc3ba1fd70bf",
   "metadata": {},
   "source": [
    "#### Задача 7. \n",
    "\n",
    "Воспользуйтесь собранным множеством букв из задачи 2 и напишите функцию, которая будет проверять строку на то, является ли она кириллическим словом. Отфильтруйте список, состоящий из слов, с помощью этой функции таким образом, чтобы остались только кириллические слова. "
   ]
  },
  {
   "cell_type": "code",
   "execution_count": 5,
   "id": "aa727129-530d-4ef6-b3c2-eb81298c928d",
   "metadata": {},
   "outputs": [
    {
     "name": "stdout",
     "output_type": "stream",
     "text": [
      "['Да', 'исчезнет', 'печаль', 'Да', 'исчезнут', 'скорби', 'наши', 'Да', 'исчезнет', 'дьявол', 'Все', 'враги', 'студентов', 'И', 'смеющиеся', 'над', 'ними']\n"
     ]
    }
   ],
   "source": [
    "B = ['Gaudeamus', 'Gaudeamus', 'igitur',\n",
    "    'Juvenes', 'dum', 'sumus',\n",
    "    'Post', 'jucundam', 'juventutem',\n",
    "    'Post', 'molestam', 'senectutem',\n",
    "    'Nos', 'habebit', 'humus', \n",
    "    'Да', 'исчезнет', 'печаль',\n",
    "    'Да', 'исчезнут', 'скорби', 'наши',\n",
    "    'Да', 'исчезнет', 'дьявол',\n",
    "    'Все', 'враги', 'студентов',\n",
    "    'И', 'смеющиеся', 'над', 'ними']\n",
    "   \n",
    "def cyrillic_sort(spisok):\n",
    "  new_spisok = spisok.copy()\n",
    "  for word in spisok:\n",
    "    for letter in word:\n",
    "      if letter not in cyrillic_set:\n",
    "        new_spisok.remove(word)\n",
    "        break\n",
    "\n",
    "  return new_spisok\n",
    "\n",
    "print(cyrillic_sort(B)) "
   ]
  },
  {
   "cell_type": "markdown",
   "id": "1ba73d33-e4bd-498f-9866-66bbb068d324",
   "metadata": {},
   "source": [
    "#### Задача 8. \n",
    "\n",
    "Даны два списка чисел. Найдите все числа, которые входят как в первый, так и во второй список, и выведите их в порядке возрастания."
   ]
  },
  {
   "cell_type": "code",
   "execution_count": 6,
   "id": "86aa879c-1d08-4f46-9413-6905c03157ff",
   "metadata": {},
   "outputs": [
    {
     "name": "stdout",
     "output_type": "stream",
     "text": [
      "[4, 5]\n"
     ]
    }
   ],
   "source": [
    "llist = [1, 2, 3, 4, 4, 5]\n",
    "listt = [4, 5, 6, 7, 8]\n",
    "\n",
    "set_1 = set(llist)\n",
    "set_2 = set(listt)\n",
    "print(sorted(set_1 & set_2))"
   ]
  },
  {
   "cell_type": "markdown",
   "id": "f60e2401-7d51-49fb-bb28-8a231f5c6987",
   "metadata": {},
   "source": [
    "#### Задача 9. \n",
    "\n",
    "Напишите функцию lexdiv(), которая считает лексическое разнообразие в тексте. Лексическое разноообразие - это количество уникальных слов, поделенное на количество всех слов в тексте. Посчитайте лексическое разнообразие для любого англоязычного и русскоязычного текста примерно одинаковой длины.\n",
    "\n",
    "Текст можно задать прямо в коде с помощью тройных кавычек. "
   ]
  },
  {
   "cell_type": "code",
   "execution_count": 7,
   "id": "f5b7a998-d3fd-4f2d-910e-9d4165d01f98",
   "metadata": {},
   "outputs": [
    {
     "name": "stdout",
     "output_type": "stream",
     "text": [
      "(0.9285714285714286, 0.8235294117647058)\n"
     ]
    }
   ],
   "source": [
    "C = \"\"\"Gaudeamus igitur\n",
    "Juvenes dum sumus\n",
    "Post jucundam juventutem\n",
    "Post molestam senectutem\n",
    "Nos habebit humus\"\"\" \n",
    "D = \"\"\"Да исчезнет печаль\n",
    "Да исчезнут скорби наши\n",
    "Да исчезнет дьявол\n",
    "Все враги студентов\n",
    "И смеющиеся над ними\"\"\"\n",
    "\n",
    "def lexdiv(c, d):\n",
    "  all_words_c = c.lower().split()\n",
    "  all_words_d = d.lower().split()\n",
    "  return len(set(all_words_c)) / len(all_words_c), len(set(all_words_d)) / len(all_words_d)\n",
    "\n",
    "print(lexdiv(C, D))"
   ]
  },
  {
   "cell_type": "markdown",
   "id": "778ba4ca-34cc-40bb-98a4-8c4168b0d02e",
   "metadata": {},
   "source": [
    "#### Задача 10. \n",
    "\n",
    "Напишите функцию printmatrix(), которая будет красиво выводить матрицу в печать. "
   ]
  },
  {
   "cell_type": "code",
   "execution_count": 8,
   "id": "9287bd95-72b6-4b39-9dd7-d21179d8fd87",
   "metadata": {},
   "outputs": [
    {
     "name": "stdout",
     "output_type": "stream",
     "text": [
      "1 2 3 5\n",
      "4 5 6 5\n",
      "7 8 9 5\n"
     ]
    }
   ],
   "source": [
    "sample_matrix_1 = [[1, 2, 3, 5],\n",
    "                   [4, 5, 6, 5],\n",
    "                   [7, 8, 9, 5]]\n",
    "\n",
    "def printmatrix(matrix):\n",
    "  for i in range(len(matrix)):\n",
    "    print(*matrix[i], sep=' ')\n",
    "\n",
    "printmatrix(sample_matrix_1)"
   ]
  },
  {
   "cell_type": "markdown",
   "id": "920168d6-c19e-4f57-b15e-399d8644ca7d",
   "metadata": {},
   "source": [
    "#### Задача 11. \n",
    "\n",
    "Напишите функцию generate_unitary(), которая будет генерировать единичную матрицу размера n. Единичная матрица - такая, у которой по диагонали стоят единички, а все остальные числа - нолики, например:\n",
    "\n",
    "    1 0 0 0\n",
    "    0 1 0 0\n",
    "    0 0 1 0\n",
    "    0 0 0 1"
   ]
  },
  {
   "cell_type": "code",
   "execution_count": null,
   "id": "f44be14c-b60a-4f10-a902-069effa4cef6",
   "metadata": {},
   "outputs": [],
   "source": [
    "def generate_unitary(n):\n",
    "  res_matrix = [[0 if i != j else 1 for j in range(n)] for i in range(n)]\n",
    "  return res_matrix\n",
    "\n",
    "for x in generate_unitary(5):\n",
    "  print(x)"
   ]
  }
 ],
 "metadata": {
  "kernelspec": {
   "display_name": "Python 3 (ipykernel)",
   "language": "python",
   "name": "python3"
  },
  "language_info": {
   "codemirror_mode": {
    "name": "ipython",
    "version": 3
   },
   "file_extension": ".py",
   "mimetype": "text/x-python",
   "name": "python",
   "nbconvert_exporter": "python",
   "pygments_lexer": "ipython3",
   "version": "3.11.5"
  }
 },
 "nbformat": 4,
 "nbformat_minor": 5
}
